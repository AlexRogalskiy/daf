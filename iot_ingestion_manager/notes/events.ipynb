{
 "cells": [
  {
   "cell_type": "markdown",
   "metadata": {
    "deletable": true,
    "editable": true
   },
   "source": [
    "# This notebook shows how to manage the events table with Spark"
   ]
  },
  {
   "cell_type": "markdown",
   "metadata": {
    "deletable": true,
    "editable": true
   },
   "source": [
    "We first need to the kudu jars to the spark session"
   ]
  },
  {
   "cell_type": "code",
   "execution_count": 9,
   "metadata": {
    "collapsed": false,
    "deletable": true,
    "editable": true
   },
   "outputs": [
    {
     "name": "stdout",
     "output_type": "stream",
     "text": [
      "Starting Spark application\n"
     ]
    },
    {
     "data": {
      "text/html": [
       "<table>\n",
       "<tr><th>ID</th><th>YARN Application ID</th><th>Kind</th><th>State</th><th>Spark UI</th><th>Driver log</th><th>Current session?</th></tr><tr><td>75</td><td>None</td><td>spark</td><td>idle</td><td></td><td></td><td>✔</td></tr></table>"
      ],
      "text/plain": [
       "<IPython.core.display.HTML object>"
      ]
     },
     "metadata": {},
     "output_type": "display_data"
    },
    {
     "name": "stdout",
     "output_type": "stream",
     "text": [
      "SparkSession available as 'spark'.\n"
     ]
    },
    {
     "data": {
      "text/html": [
       "Current session configs: <tt>{'conf': {'spark.jars.packages': 'org.apache.kudu:kudu-spark2_2.11:1.4.0'}, 'kind': 'spark'}</tt><br>"
      ],
      "text/plain": [
       "<IPython.core.display.HTML object>"
      ]
     },
     "metadata": {},
     "output_type": "display_data"
    },
    {
     "data": {
      "text/html": [
       "<table>\n",
       "<tr><th>ID</th><th>YARN Application ID</th><th>Kind</th><th>State</th><th>Spark UI</th><th>Driver log</th><th>Current session?</th></tr><tr><td>73</td><td>None</td><td>spark</td><td>idle</td><td></td><td></td><td></td></tr><tr><td>75</td><td>None</td><td>spark</td><td>idle</td><td></td><td></td><td>✔</td></tr></table>"
      ],
      "text/plain": [
       "<IPython.core.display.HTML object>"
      ]
     },
     "metadata": {},
     "output_type": "display_data"
    }
   ],
   "source": [
    "%%configure -f\n",
    "{ \"conf\": {\"spark.jars.packages\": \"org.apache.kudu:kudu-spark2_2.11:1.4.0\" }}"
   ]
  },
  {
   "cell_type": "code",
   "execution_count": 10,
   "metadata": {
    "collapsed": false,
    "deletable": true,
    "editable": true
   },
   "outputs": [
    {
     "name": "stdout",
     "output_type": "stream",
     "text": [
      "res1: org.apache.spark.SparkContext = org.apache.spark.SparkContext@bff6ed0"
     ]
    }
   ],
   "source": [
    "sc"
   ]
  },
  {
   "cell_type": "code",
   "execution_count": 26,
   "metadata": {
    "collapsed": false,
    "deletable": true,
    "editable": true
   },
   "outputs": [
    {
     "name": "stdout",
     "output_type": "stream",
     "text": [
      "df2: org.apache.spark.sql.DataFrame = [id: string, ts: bigint ... 12 more fields]"
     ]
    }
   ],
   "source": [
    "import org.apache.kudu.spark.kudu._\n",
    "import org.apache.spark.sql.functions._\n",
    "\n",
    "//we need to define a udf function for converting two strings into a map\n",
    "val asMap = udf((keys:String, values: String) => keys.split(\"#\").zip(values.split(\"#\")).toMap)\n",
    "\n",
    "//then we define a first dataframe df1 associated to the kudu table\n",
    "val df1 = spark.sqlContext.read.options(Map(\"kudu.master\" -> \"master:7051\",\"kudu.table\" -> \"Events\")).kudu\n",
    "\n",
    "//the next dataframe contains an additional column of type Map containing a map for the two arrays: keys and values\n",
    "val df2 = df1.withColumn(\"tags\", asMap($\"attributesKeys\",$\"attributesValues\"))"
   ]
  },
  {
   "cell_type": "code",
   "execution_count": 27,
   "metadata": {
    "collapsed": false
   },
   "outputs": [
    {
     "name": "stdout",
     "output_type": "stream",
     "text": [
      "res50: org.apache.spark.sql.Row = [class it.gov.daf.kafkaProducers.eventConverters.TorinoParkingConverter.1505819054000.2,1505819054000,1,null,1.0,0,null,null,http://opendata.5t.torino.it/get_pk,45.04289-7.67754,[B@7fa329bb,name#tendence#tags#status#metric#value,D'AZEGLIO GALILEI#1#name,status,tendence#1#free#105,Map(name -> D'AZEGLIO GALILEI, tendence -> 1, tags -> name,status,tendence, status -> 1, metric -> free, value -> 105)]"
     ]
    }
   ],
   "source": [
    "df2.head"
   ]
  },
  {
   "cell_type": "code",
   "execution_count": 28,
   "metadata": {
    "collapsed": false,
    "deletable": true,
    "editable": true
   },
   "outputs": [
    {
     "name": "stdout",
     "output_type": "stream",
     "text": [
      "res54: Long = 13"
     ]
    }
   ],
   "source": [
    "//let's show a couple of rows of df2\n",
    "//df2.select(\"id\", \"ts\", \"tags\").filter($\"id\"==\"twitter-9181205099291776\")\n",
    "//df2.filter(\"$id == twitter-9181205099291776\")\n",
    "df2.filter(\"ts == 1505819054000\").count()"
   ]
  },
  {
   "cell_type": "code",
   "execution_count": 29,
   "metadata": {
    "collapsed": false,
    "deletable": true,
    "editable": true
   },
   "outputs": [
    {
     "name": "stdout",
     "output_type": "stream",
     "text": [
      "res55: Long = 32701458"
     ]
    }
   ],
   "source": [
    "df2.count()"
   ]
  },
  {
   "cell_type": "code",
   "execution_count": 7,
   "metadata": {
    "collapsed": false
   },
   "outputs": [
    {
     "name": "stdout",
     "output_type": "stream",
     "text": [
      "res13: org.apache.spark.sql.Row = [class it.gov.daf.kafkaProducers.eventConverters.TorinoParkingConverter.1505819054000.2,1505819054000,1,null,1.0,0,null,null,http://opendata.5t.torino.it/get_pk,45.04289-7.67754,[B@1b15812a,name#tendence#tags#status#metric#value,D'AZEGLIO GALILEI#1#name,status,tendence#1#free#105,Map(name -> D'AZEGLIO GALILEI, tendence -> 1, tags -> name,status,tendence, status -> 1, metric -> free, value -> 105)]"
     ]
    }
   ],
   "source": [
    "df2.wh"
   ]
  },
  {
   "cell_type": "code",
   "execution_count": 6,
   "metadata": {
    "collapsed": true,
    "deletable": true,
    "editable": true
   },
   "outputs": [],
   "source": [
    "%%cleanup -f"
   ]
  }
 ],
 "metadata": {
  "kernelspec": {
   "display_name": "Spark",
   "language": "",
   "name": "sparkkernel"
  },
  "language_info": {
   "codemirror_mode": "text/x-scala",
   "mimetype": "text/x-scala",
   "name": "scala",
   "pygments_lexer": "scala"
  }
 },
 "nbformat": 4,
 "nbformat_minor": 2
}
