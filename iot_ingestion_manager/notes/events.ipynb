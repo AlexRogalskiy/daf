{
 "cells": [
  {
   "cell_type": "markdown",
   "metadata": {
    "deletable": true,
    "editable": true
   },
   "source": [
    "# This notebook shows how to manage the events table with Spark"
   ]
  },
  {
   "cell_type": "markdown",
   "metadata": {
    "deletable": true,
    "editable": true
   },
   "source": [
    "We first need to the kudu jars to the spark session"
   ]
  },
  {
   "cell_type": "code",
   "execution_count": 1,
   "metadata": {
    "collapsed": false,
    "deletable": true,
    "editable": true
   },
   "outputs": [
    {
     "data": {
      "text/html": [
       "Current session configs: <tt>{'conf': {'spark.jars.packages': 'org.apache.kudu:kudu-spark2_2.11:1.4.0'}, 'kind': 'spark'}</tt><br>"
      ],
      "text/plain": [
       "<IPython.core.display.HTML object>"
      ]
     },
     "metadata": {},
     "output_type": "display_data"
    },
    {
     "data": {
      "text/html": [
       "No active sessions."
      ],
      "text/plain": [
       "<IPython.core.display.HTML object>"
      ]
     },
     "metadata": {},
     "output_type": "display_data"
    }
   ],
   "source": [
    "%%configure -f\n",
    "{ \"conf\": {\"spark.jars.packages\": \"org.apache.kudu:kudu-spark2_2.11:1.4.0\" }}"
   ]
  },
  {
   "cell_type": "code",
   "execution_count": 2,
   "metadata": {
    "collapsed": false,
    "deletable": true,
    "editable": true
   },
   "outputs": [
    {
     "name": "stdout",
     "output_type": "stream",
     "text": [
      "Starting Spark application\n"
     ]
    },
    {
     "data": {
      "text/html": [
       "<table>\n",
       "<tr><th>ID</th><th>YARN Application ID</th><th>Kind</th><th>State</th><th>Spark UI</th><th>Driver log</th><th>Current session?</th></tr><tr><td>34</td><td>application_1501855380192_0154</td><td>spark</td><td>idle</td><td><a target=\"_blank\" href=\"https://master.platform.daf.gov.it:8090/proxy/application_1501855380192_0154/\">Link</a></td><td><a target=\"_blank\" href=\"https://slave3.platform.daf.gov.it:8044/node/containerlogs/container_1501855380192_0154_01_000001/david\">Link</a></td><td>✔</td></tr></table>"
      ],
      "text/plain": [
       "<IPython.core.display.HTML object>"
      ]
     },
     "metadata": {},
     "output_type": "display_data"
    },
    {
     "name": "stdout",
     "output_type": "stream",
     "text": [
      "SparkSession available as 'spark'.\n",
      "res1: org.apache.spark.SparkContext = org.apache.spark.SparkContext@4ebdbcaf"
     ]
    }
   ],
   "source": [
    "sc"
   ]
  },
  {
   "cell_type": "code",
   "execution_count": 3,
   "metadata": {
    "collapsed": false,
    "deletable": true,
    "editable": true
   },
   "outputs": [
    {
     "name": "stdout",
     "output_type": "stream",
     "text": [
      "df2: org.apache.spark.sql.DataFrame = [id: string, ts: bigint ... 12 more fields]"
     ]
    }
   ],
   "source": [
    "import org.apache.kudu.spark.kudu._\n",
    "import org.apache.spark.sql.functions._\n",
    "\n",
    "//we need to define a udf function for converting two strings into a map\n",
    "val asMap = udf((keys:String, values: String) => keys.split(\"#\").zip(values.split(\"#\")).toMap)\n",
    "\n",
    "//then we define a first dataframe df1 associated to the kudu table\n",
    "val df1 = spark.sqlContext.read.options(Map(\"kudu.master\" -> \"master:7051\",\"kudu.table\" -> \"Events\")).kudu\n",
    "\n",
    "//the next dataframe contains an additional column of type Map containing a map for the two arrays: keys and values\n",
    "val df2 = df1.withColumn(\"tags\", asMap($\"attributesKeys\",$\"attributesValues\"))"
   ]
  },
  {
   "cell_type": "code",
   "execution_count": 4,
   "metadata": {
    "collapsed": false,
    "deletable": true,
    "editable": true
   },
   "outputs": [
    {
     "name": "stdout",
     "output_type": "stream",
     "text": [
      "res9: List[org.apache.spark.sql.Row] = List()"
     ]
    }
   ],
   "source": [
    "//let's show a couple of rows of df2\n",
    "df2.select(\"id\", \"ts\", \"tags\").take(10).toList"
   ]
  },
  {
   "cell_type": "code",
   "execution_count": 5,
   "metadata": {
    "collapsed": false,
    "deletable": true,
    "editable": true
   },
   "outputs": [
    {
     "name": "stdout",
     "output_type": "stream",
     "text": [
      "res10: Long = 0"
     ]
    }
   ],
   "source": [
    "df2.count()"
   ]
  },
  {
   "cell_type": "code",
   "execution_count": 6,
   "metadata": {
    "collapsed": true,
    "deletable": true,
    "editable": true
   },
   "outputs": [],
   "source": [
    "%%cleanup -f"
   ]
  }
 ],
 "metadata": {
  "kernelspec": {
   "display_name": "Spark",
   "language": "",
   "name": "sparkkernel"
  },
  "language_info": {
   "codemirror_mode": "text/x-scala",
   "mimetype": "text/x-scala",
   "name": "scala",
   "pygments_lexer": "scala"
  }
 },
 "nbformat": 4,
 "nbformat_minor": 2
}
