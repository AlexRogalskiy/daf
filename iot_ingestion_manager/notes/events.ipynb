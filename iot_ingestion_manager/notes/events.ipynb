{
 "cells": [
  {
   "cell_type": "markdown",
   "metadata": {
    "deletable": true,
    "editable": true
   },
   "source": [
    "# This notebook shows how to manage the events table with Spark"
   ]
  },
  {
   "cell_type": "markdown",
   "metadata": {
    "deletable": true,
    "editable": true
   },
   "source": [
    "We first need to the kudu jars to the spark session"
   ]
  },
  {
   "cell_type": "code",
   "execution_count": 1,
   "metadata": {
    "collapsed": false,
    "deletable": true,
    "editable": true
   },
   "outputs": [
    {
     "data": {
      "text/html": [
       "Current session configs: <tt>{'conf': {'spark.jars.packages': 'org.apache.kudu:kudu-spark2_2.11:1.4.0'}, 'kind': 'spark'}</tt><br>"
      ],
      "text/plain": [
       "<IPython.core.display.HTML object>"
      ]
     },
     "metadata": {},
     "output_type": "display_data"
    },
    {
     "data": {
      "text/html": [
       "No active sessions."
      ],
      "text/plain": [
       "<IPython.core.display.HTML object>"
      ]
     },
     "metadata": {},
     "output_type": "display_data"
    }
   ],
   "source": [
    "%%configure -f\n",
    "{ \"conf\": {\"spark.jars.packages\": \"org.apache.kudu:kudu-spark2_2.11:1.4.0\" }}"
   ]
  },
  {
   "cell_type": "code",
   "execution_count": 2,
   "metadata": {
    "collapsed": false,
    "deletable": true,
    "editable": true
   },
   "outputs": [
    {
     "name": "stdout",
     "output_type": "stream",
     "text": [
      "Starting Spark application\n"
     ]
    },
    {
     "data": {
      "text/html": [
       "<table>\n",
       "<tr><th>ID</th><th>YARN Application ID</th><th>Kind</th><th>State</th><th>Spark UI</th><th>Driver log</th><th>Current session?</th></tr><tr><td>13</td><td>application_1501855380192_0054</td><td>spark</td><td>idle</td><td><a target=\"_blank\" href=\"https://master.platform.daf.gov.it:8090/proxy/application_1501855380192_0054/\">Link</a></td><td><a target=\"_blank\" href=\"https://slave3.platform.daf.gov.it:8044/node/containerlogs/container_1501855380192_0054_01_000001/david\">Link</a></td><td>✔</td></tr></table>"
      ],
      "text/plain": [
       "<IPython.core.display.HTML object>"
      ]
     },
     "metadata": {},
     "output_type": "display_data"
    },
    {
     "name": "stdout",
     "output_type": "stream",
     "text": [
      "SparkSession available as 'spark'.\n",
      "res1: org.apache.spark.SparkContext = org.apache.spark.SparkContext@5f3783d5"
     ]
    }
   ],
   "source": [
    "sc"
   ]
  },
  {
   "cell_type": "code",
   "execution_count": 3,
   "metadata": {
    "collapsed": false,
    "deletable": true,
    "editable": true
   },
   "outputs": [
    {
     "name": "stdout",
     "output_type": "stream",
     "text": [
      "df2: org.apache.spark.sql.DataFrame = [id: string, ts: bigint ... 12 more fields]"
     ]
    }
   ],
   "source": [
    "import org.apache.kudu.spark.kudu._\n",
    "import org.apache.spark.sql.functions._\n",
    "\n",
    "//we need to define a udf function for converting two strings into a map\n",
    "val asMap = udf((keys:String, values: String) => keys.split(\"#\").zip(values.split(\"#\")).toMap)\n",
    "\n",
    "//then we define a first dataframe df1 associated to the kudu table\n",
    "val df1 = spark.sqlContext.read.options(Map(\"kudu.master\" -> \"master:7051\",\"kudu.table\" -> \"Events\")).kudu\n",
    "\n",
    "//the next dataframe contains an additional column of type Map containing a map for the two arrays: keys and values\n",
    "val df2 = df1.withColumn(\"tags\", asMap($\"attributesKeys\",$\"attributesValues\"))"
   ]
  },
  {
   "cell_type": "code",
   "execution_count": 4,
   "metadata": {
    "collapsed": false,
    "deletable": true,
    "editable": true
   },
   "outputs": [
    {
     "name": "stdout",
     "output_type": "stream",
     "text": [
      "res9: List[org.apache.spark.sql.Row] = List([a4f68e7e-9dd6-4f26-864e-0d6b81a80d9a,1504151825780,Map(tag1 -> value1, tag2 -> value2)], [a4f68f1a-87b4-4794-91a3-a917fa50d7a9,1504136325911,Map(tag1 -> value1, tag2 -> value2)], [a4f68f69-747a-4da9-bfb4-b179dc661248,1504137698037,Map(tag1 -> value1, tag2 -> value2)], [a4f690a9-26af-4658-afb9-92f8c448e110,1504114696410,Map(tag1 -> value1, tag2 -> value2)], [a4f69320-44d6-4a18-af24-b136f323f821,1504113131620,Map(tag1 -> value1, tag2 -> value2)], [a4f6936e-f5eb-4b7f-a449-2c18bb96a0b2,1504187852601,Map(tag1 -> value1, tag2 -> value2)], [a4f6940f-fd31-4b97-9fe3-e8ca9b04d49b,1504197118273,Map(tag1 -> value1, tag2 -> value2)], [a4f69669-0833-4f65-9d7e-d260df7c4173,1504166699534,Map(tag1 -> value1, tag2 -> value2)], [a4f696b3-f11b-40de-a256-145bbf67..."
     ]
    }
   ],
   "source": [
    "//let's show a couple of rows of df2\n",
    "df2.select(\"id\", \"ts\", \"tags\").take(10).toList"
   ]
  },
  {
   "cell_type": "code",
   "execution_count": 7,
   "metadata": {
    "collapsed": false,
    "deletable": true,
    "editable": true
   },
   "outputs": [
    {
     "name": "stdout",
     "output_type": "stream",
     "text": [
      "res12: Long = 100000000"
     ]
    }
   ],
   "source": [
    "df2.count()"
   ]
  },
  {
   "cell_type": "code",
   "execution_count": null,
   "metadata": {
    "collapsed": true,
    "deletable": true,
    "editable": true
   },
   "outputs": [],
   "source": []
  }
 ],
 "metadata": {
  "kernelspec": {
   "display_name": "Spark",
   "language": "",
   "name": "sparkkernel"
  },
  "language_info": {
   "codemirror_mode": "text/x-scala",
   "mimetype": "text/x-scala",
   "name": "scala",
   "pygments_lexer": "scala"
  }
 },
 "nbformat": 4,
 "nbformat_minor": 2
}
